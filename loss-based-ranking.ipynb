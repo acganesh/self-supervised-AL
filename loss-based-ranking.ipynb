{
 "cells": [
  {
   "cell_type": "code",
   "execution_count": 1,
   "id": "e722622a",
   "metadata": {},
   "outputs": [],
   "source": [
    "import multiprocessing\n",
    "import sys\n",
    "\n",
    "import numpy as np\n",
    "import pytorch_lightning as pl\n",
    "import sklearn\n",
    "import torch\n",
    "import torchvision\n",
    "\n",
    "from src.data.dataloaders import ImagesDataset\n",
    "from src.models.model import SelfSupervisedLearner\n",
    "from sklearn.linear_model import LogisticRegression\n",
    "from sklearn.decomposition import PCA\n",
    "from torch.utils.data import DataLoader\n",
    "\n",
    "BATCH_SIZE = 256\n",
    "EPOCHS     = 1000\n",
    "LR         = 3e-4\n",
    "IMAGE_SIZE = 96 # Change this depending on dataset\n",
    "NUM_GPUS= 0 # Change this depending on host\n",
    "NUM_WORKERS = multiprocessing.cpu_count()"
   ]
  },
  {
   "cell_type": "code",
   "execution_count": 3,
   "id": "de5c78f1",
   "metadata": {},
   "outputs": [
    {
     "name": "stdout",
     "output_type": "stream",
     "text": [
      "Loaded checkpoint from  ./ckpt/learner_0510_v100.pt\n",
      "Train loading done\n",
      "Test loading done\n",
      "got embeddings\n"
     ]
    }
   ],
   "source": [
    "resnet = torchvision.models.resnet18(pretrained=False)\n",
    "model = SelfSupervisedLearner(\n",
    "    resnet,\n",
    "    image_size = IMAGE_SIZE,\n",
    "    hidden_layer = 'avgpool',\n",
    "    projection_size = 256,\n",
    "    projection_hidden_size = 4096,\n",
    "    moving_average_decay = 0.99,\n",
    "    lr = LR\n",
    ")\n",
    "\n",
    "    \n",
    "argv = [\"train.py\", \"--load\", \"./ckpt/learner_0510_v100.pt\"]\n",
    "model.load_state_dict(torch.load(argv[2]))\n",
    "print(\"Loaded checkpoint from \", argv[2])\n",
    "\n",
    "#TODO: for some reason labels don't exist in my wget data \n",
    "#ds = ImagesDataset(\"./dataset/test_images\", IMAGE_SIZE, train=False)\n",
    "data_transforms = torchvision.transforms.Compose([torchvision.transforms.ToTensor()])\n",
    "train_dataset = torchvision.datasets.STL10('./dataset/train_split', split='train', download=False,\n",
    "                   transform=data_transforms)\n",
    "train_loader = DataLoader(train_dataset, batch_size=5000, num_workers=NUM_WORKERS, shuffle=False)\n",
    "\n",
    "\n",
    "train_imgs, train_labels = next(iter(train_loader))\n",
    "print(\"Train loading done\")\n",
    "\n",
    "test_dataset = torchvision.datasets.STL10('./dataset/test_split', split='test', download=False, transform=data_transforms)\n",
    "test_loader = DataLoader(test_dataset, batch_size=8000, num_workers=NUM_WORKERS, shuffle=False)\n",
    "test_imgs, test_labels = next(iter(test_loader))\n",
    "print(\"Test loading done\")\n",
    "\n",
    "#train_projs, train_embeddings = model.learner.forward(train_imgs, return_embedding=True)\n",
    "#test_projs, test_embeddings = model.learner.forward(test_imgs, return_embedding=True)\n",
    "\n",
    "print(\"got embeddings\")"
   ]
  },
  {
   "cell_type": "code",
   "execution_count": 5,
   "id": "7de1a8be",
   "metadata": {},
   "outputs": [
    {
     "name": "stdout",
     "output_type": "stream",
     "text": [
      "torch.Size([1, 3, 96, 96])\n"
     ]
    },
    {
     "data": {
      "text/plain": [
       "'\\nfor i, img in enumerate(train_imgs[:100]):\\n    loss = model.learner.forward(torch.unsqueeze(img, 0))\\n    losses_train.append(loss)\\n    \\n    if (i % 100) == 0: print(i)\\n        \\nprint(losses_train)\\n'"
      ]
     },
     "execution_count": 5,
     "metadata": {},
     "output_type": "execute_result"
    }
   ],
   "source": [
    "X = torch.unsqueeze(train_imgs[0], 0)\n",
    "print(X.shape)\n",
    "\n",
    "model.eval()\n",
    "\n",
    "losses_train = []\n",
    "\n",
    "loss = model.learner.forward(train_imgs, return_losses=True)\n",
    "\n",
    "\"\"\"\n",
    "for i, img in enumerate(train_imgs[:100]):\n",
    "    loss = model.learner.forward(torch.unsqueeze(img, 0))\n",
    "    losses_train.append(loss)\n",
    "    \n",
    "    if (i % 100) == 0: print(i)\n",
    "        \n",
    "print(losses_train)\n",
    "\"\"\""
   ]
  },
  {
   "cell_type": "code",
   "execution_count": 7,
   "id": "3c74b0a2",
   "metadata": {},
   "outputs": [
    {
     "data": {
      "text/plain": [
       "tensor(0.6558, grad_fn=<SelectBackward>)"
      ]
     },
     "execution_count": 7,
     "metadata": {},
     "output_type": "execute_result"
    }
   ],
   "source": []
  }
 ],
 "metadata": {
  "kernelspec": {
   "display_name": "Python 3",
   "language": "python",
   "name": "python3"
  },
  "language_info": {
   "codemirror_mode": {
    "name": "ipython",
    "version": 3
   },
   "file_extension": ".py",
   "mimetype": "text/x-python",
   "name": "python",
   "nbconvert_exporter": "python",
   "pygments_lexer": "ipython3",
   "version": "3.9.1"
  }
 },
 "nbformat": 4,
 "nbformat_minor": 5
}
